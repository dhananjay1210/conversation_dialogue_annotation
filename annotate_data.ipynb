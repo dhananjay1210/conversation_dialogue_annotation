{
 "cells": [
  {
   "cell_type": "code",
   "execution_count": 12,
   "id": "646d48b2",
   "metadata": {},
   "outputs": [],
   "source": [
    "from transformers import T5Tokenizer, T5ForConditionalGeneration\n",
    "import torch\n",
    "import os\n",
    "import re"
   ]
  },
  {
   "cell_type": "code",
   "execution_count": 4,
   "id": "f97ff49c",
   "metadata": {},
   "outputs": [],
   "source": [
    "root_filepath = os.getcwd()"
   ]
  },
  {
   "cell_type": "code",
   "execution_count": 2,
   "id": "7ae0acc5",
   "metadata": {},
   "outputs": [
    {
     "data": {
      "application/vnd.jupyter.widget-view+json": {
       "model_id": "b8284fe95ce5407f933750279ea9fd90",
       "version_major": 2,
       "version_minor": 0
      },
      "text/plain": [
       "Downloading (…)ve/main/spiece.model:   0%|          | 0.00/792k [00:00<?, ?B/s]"
      ]
     },
     "metadata": {},
     "output_type": "display_data"
    },
    {
     "data": {
      "application/vnd.jupyter.widget-view+json": {
       "model_id": "055e4deac0d346d18fbe87b97925f75e",
       "version_major": 2,
       "version_minor": 0
      },
      "text/plain": [
       "Downloading (…)lve/main/config.json:   0%|          | 0.00/1.21k [00:00<?, ?B/s]"
      ]
     },
     "metadata": {},
     "output_type": "display_data"
    },
    {
     "name": "stderr",
     "output_type": "stream",
     "text": [
      "/data/users/dhananjay/miniconda3/lib/python3.9/site-packages/transformers/models/t5/tokenization_t5.py:163: FutureWarning: This tokenizer was incorrectly instantiated with a model max length of 512 which will be corrected in Transformers v5.\n",
      "For now, this behavior is kept to avoid breaking backwards compatibility when padding/encoding with `truncation is True`.\n",
      "- Be aware that you SHOULD NOT rely on t5-base automatically truncating your input to 512 when padding/encoding.\n",
      "- If you want to encode/pad to sequences longer than 512 you can either instantiate this tokenizer with `model_max_length` or pass `max_length` when encoding/padding.\n",
      "- To avoid this warning, please instantiate this tokenizer with `model_max_length` set to your preferred value.\n",
      "  warnings.warn(\n"
     ]
    },
    {
     "data": {
      "application/vnd.jupyter.widget-view+json": {
       "model_id": "a70a4e36ff3f47fcaa2004c46fd1ed1d",
       "version_major": 2,
       "version_minor": 0
      },
      "text/plain": [
       "Downloading pytorch_model.bin:   0%|          | 0.00/892M [00:00<?, ?B/s]"
      ]
     },
     "metadata": {},
     "output_type": "display_data"
    },
    {
     "data": {
      "application/vnd.jupyter.widget-view+json": {
       "model_id": "7b6620029e0d46c2a8fac497bfc2c9f6",
       "version_major": 2,
       "version_minor": 0
      },
      "text/plain": [
       "Downloading (…)neration_config.json:   0%|          | 0.00/147 [00:00<?, ?B/s]"
      ]
     },
     "metadata": {},
     "output_type": "display_data"
    }
   ],
   "source": [
    "# Initialize the tokenizer and model\n",
    "tokenizer = T5Tokenizer.from_pretrained('t5-base')\n",
    "model = T5ForConditionalGeneration.from_pretrained('t5-base')"
   ]
  },
  {
   "cell_type": "code",
   "execution_count": 10,
   "id": "ebcddccd",
   "metadata": {},
   "outputs": [],
   "source": [
    "def clean_tag_name(tag_name):\n",
    "    tag_name = tag_name.lower()\n",
    "    tag_name = re.sub('[^a-zA-Z0-9]', ' ', tag_name)\n",
    "    tag_name = re. sub('\\s{2,}', ' ', tag_name)\n",
    "    tag_name = re. sub('\\s', '-', tag_name).strip('-')\n",
    "    return tag_name"
   ]
  },
  {
   "cell_type": "code",
   "execution_count": 23,
   "id": "5742423f",
   "metadata": {},
   "outputs": [
    {
     "name": "stdout",
     "output_type": "stream",
     "text": [
      "Total annotation class: ['statement-non-opinion', 'acknowledge-backchannel', 'statement-opinion', 'agree-accept', 'abandoned-or-turn-exit', 'appreciation', 'yes-no-question', 'non-verbal', 'yes-answers', 'conventional-closing', 'uninterpretable', 'wh-question', 'no-answers', 'response-acknowledgement', 'hedge', 'declarative-yes-no-question', 'other', 'backchannel-in-question-form', 'quotation', 'summarize-reformulate', 'affirmative-non-yes-answers', 'action-directive', 'collaborative-completion', 'repeat-phrase', 'open-question', 'rhetorical-questions', 'hold-before-answer-agreement', 'reject', 'negative-non-no-answers', 'signal-non-understanding', 'other-answers', 'conventional-opening', 'or-clause', 'dispreferred-answers', '3rd-party-talk', 'offers-options-commits', 'self-talk', 'downplayer', 'maybe-accept-part', 'tag-question', 'declarative-wh-question', 'apology', 'thanking']\n",
      "Here is the few examples of text and corresponding annotation\n",
      "Text: Me, I'm in the legal department.\n",
      "Annotation: statement-non-opinion\n",
      "Text: Uh-huh.\n",
      "Annotation: acknowledge-backchannel\n",
      "Text: I think it's great\n",
      "Annotation: statement-opinion\n",
      "Text: That's exactly it.\n",
      "Annotation: agree-accept\n",
      "Text: So, -\n",
      "Annotation: abandoned-or-turn-exit\n",
      "Text: I can imagine.\n",
      "Annotation: appreciation\n",
      "Text: Do you have to have any special training?\n",
      "Annotation: yes-no-question\n",
      "Text: [Laughter], [Throat_clearing]\n",
      "Annotation: non-verbal\n",
      "Text: Yes.\n",
      "Annotation: yes-answers\n",
      "Text: Well, it's been nice talking to you.\n",
      "Annotation: conventional-closing\n",
      "Text: But, uh, yeah\n",
      "Annotation: uninterpretable\n",
      "Text: Well, how old are you?\n",
      "Annotation: wh-question\n",
      "Text: No.\n",
      "Annotation: no-answers\n",
      "Text: Oh, okay.\n",
      "Annotation: response-acknowledgement\n",
      "Text: I don't know if I'm making any sense or not.\n",
      "Annotation: hedge\n",
      "Text: So you can afford to get a house?\n",
      "Annotation: declarative-yes-no-question\n",
      "Text: Well give me a break, you know.\n",
      "Annotation: other\n",
      "Text: Is that right?\n",
      "Annotation: backchannel-in-question-form\n",
      "Text: You can't be pregnant and have cats\n",
      "Annotation: quotation\n",
      "Text: Oh, you mean you switched schools for the kids.\n",
      "Annotation: summarize-reformulate\n",
      "Text: It is.\n",
      "Annotation: affirmative-non-yes-answers\n",
      "Text: Why don't you go first\n",
      "Annotation: action-directive\n",
      "Text: Who aren't contributing.\n",
      "Annotation: collaborative-completion\n",
      "Text: Oh, fajitas\n",
      "Annotation: repeat-phrase\n",
      "Text: How about you?\n",
      "Annotation: open-question\n",
      "Text: Who would steal a newspaper?\n",
      "Annotation: rhetorical-questions\n",
      "Text: I'm drawing a blank.\n",
      "Annotation: hold-before-answer-agreement\n",
      "Text: Well, no\n",
      "Annotation: reject\n",
      "Text: Uh, not a whole lot.\n",
      "Annotation: negative-non-no-answers\n",
      "Text: Excuse me?\n",
      "Annotation: signal-non-understanding\n",
      "Text: I don't know\n",
      "Annotation: other-answers\n",
      "Text: How are you?\n",
      "Annotation: conventional-opening\n",
      "Text: or is it more of a company?\n",
      "Annotation: or-clause\n",
      "Text: Well, not so much that.\n",
      "Annotation: dispreferred-answers\n",
      "Text: My goodness, Diane, get down from there.\n",
      "Annotation: 3rd-party-talk\n",
      "Text: I'll have to check that out\n",
      "Annotation: offers-options-commits\n",
      "Text: What's the word I'm looking for\n",
      "Annotation: self-talk\n",
      "Text: That's all right.\n",
      "Annotation: downplayer\n",
      "Text: Something like that\n",
      "Annotation: maybe-accept-part\n",
      "Text: Right?\n",
      "Annotation: tag-question\n",
      "Text: You are what kind of buff?\n",
      "Annotation: declarative-wh-question\n",
      "Text: I'm sorry.\n",
      "Annotation: apology\n",
      "Text: Hey thanks a lot\n",
      "Annotation: thanking\n",
      "\n"
     ]
    }
   ],
   "source": [
    "input_text = \"\"\n",
    "input_text += \"Total annotation class: ['statement-non-opinion', 'acknowledge-backchannel', 'statement-opinion', 'agree-accept', 'abandoned-or-turn-exit', 'appreciation', 'yes-no-question', 'non-verbal', 'yes-answers', 'conventional-closing', 'uninterpretable', 'wh-question', 'no-answers', 'response-acknowledgement', 'hedge', 'declarative-yes-no-question', 'other', 'backchannel-in-question-form', 'quotation', 'summarize-reformulate', 'affirmative-non-yes-answers', 'action-directive', 'collaborative-completion', 'repeat-phrase', 'open-question', 'rhetorical-questions', 'hold-before-answer-agreement', 'reject', 'negative-non-no-answers', 'signal-non-understanding', 'other-answers', 'conventional-opening', 'or-clause', 'dispreferred-answers', '3rd-party-talk', 'offers-options-commits', 'self-talk', 'downplayer', 'maybe-accept-part', 'tag-question', 'declarative-wh-question', 'apology', 'thanking']\\n\"\n",
    "input_text += \"Here is the few examples of text and corresponding annotation\\n\"\n",
    "with open(os.path.join(root_filepath, 'data', 'few_shot_raw.txt'), 'r') as fp:\n",
    "    for line in fp:\n",
    "        line = line.split('\\t')\n",
    "        input_text += \"Text: \"\n",
    "        input_text += line[2]\n",
    "        input_text += \"\\n\"\n",
    "        input_text += \"Annotation: \"\n",
    "        input_text += clean_tag_name(line[0])\n",
    "        input_text += \"\\n\"\n",
    "print(input_text)"
   ]
  },
  {
   "cell_type": "code",
   "execution_count": 24,
   "id": "50865152",
   "metadata": {},
   "outputs": [
    {
     "name": "stdout",
     "output_type": "stream",
     "text": [
      "Output: 'abandoned-or-turn-exit',\n"
     ]
    }
   ],
   "source": [
    "# Evaluate the model on a few-shot learning example\n",
    "input_text += \"Find the annotation for the below text\\n\"\n",
    "input_text += \"Text: \"\n",
    "input_text += \"thats right.\"\n",
    "input_text += \"\\n\"\n",
    "input_text += \"Annotation: \"\n",
    "\n",
    "with open(os.path.join(root_filepath, 'data', 'Ubuntu-dialogue-corpus', 'partial_data.csv'), 'r') as fp:\n",
    "    i = 0\n",
    "    for line in fp:\n",
    "        line = line.split(',')\n",
    "        if i != 0:\n",
    "            \n",
    "\n",
    "\n",
    "input_encoding = tokenizer(input_text, padding=True, truncation=True, return_tensors='pt')\n",
    "model.eval()\n",
    "generated_ids = model.generate(\n",
    "  input_ids=input_encoding['input_ids'],\n",
    "  attention_mask=input_encoding['attention_mask'],\n",
    "  max_length=16\n",
    ")\n",
    "output_text = tokenizer.decode(generated_ids[0], skip_special_tokens=True)\n",
    "#print('Input:', input_text)\n",
    "print('Output:', output_text)\n"
   ]
  },
  {
   "cell_type": "code",
   "execution_count": null,
   "id": "f4b52cd9",
   "metadata": {},
   "outputs": [],
   "source": []
  }
 ],
 "metadata": {
  "kernelspec": {
   "display_name": "Python 3 (ipykernel)",
   "language": "python",
   "name": "python3"
  },
  "language_info": {
   "codemirror_mode": {
    "name": "ipython",
    "version": 3
   },
   "file_extension": ".py",
   "mimetype": "text/x-python",
   "name": "python",
   "nbconvert_exporter": "python",
   "pygments_lexer": "ipython3",
   "version": "3.9.16"
  }
 },
 "nbformat": 4,
 "nbformat_minor": 5
}
