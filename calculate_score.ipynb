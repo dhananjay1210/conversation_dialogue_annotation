{
 "cells": [
  {
   "cell_type": "code",
   "execution_count": 1,
   "id": "06334f10",
   "metadata": {},
   "outputs": [],
   "source": [
    "import pandas as pd\n",
    "import os\n",
    "import re\n",
    "from sklearn.metrics import cohen_kappa_score"
   ]
  },
  {
   "cell_type": "code",
   "execution_count": 11,
   "id": "b92359e9",
   "metadata": {},
   "outputs": [],
   "source": [
    "root_filepath = os.getcwd()\n",
    "dj_ubuntu_filepath = os.path.join(root_filepath, 'data', 'Ubuntu-dialogue-corpus', 'dj_ubuntu_annotated.csv')\n",
    "dj_multigo_filepath = os.path.join(root_filepath, 'data', 'dj_multigo_data_2_annotated.csv')\n",
    "parsa_ubuntu_filepath = os.path.join(root_filepath, 'data', 'Ubuntu-dialogue-corpus', 'parsa_ubuntu_data_1_annotated.csv')\n",
    "parsa_multigo_filepath = os.path.join(root_filepath, 'data', 'parsa_multigo_data_2_annotated.csv')"
   ]
  },
  {
   "cell_type": "code",
   "execution_count": 12,
   "id": "202e2b98",
   "metadata": {},
   "outputs": [],
   "source": [
    "processed_taglist = ['statement-non-opinion', 'acknowledge-backchannel', 'statement-opinion', 'agree-accept', 'abandoned-or-turn-exit', 'appreciation', 'yes-no-question', 'non-verbal', 'yes-answers', 'conventional-closing', 'uninterpretable', 'wh-question', 'no-answers', 'response-acknowledgement', 'hedge', 'declarative-yes-no-question', 'other', 'backchannel-in-question-form', 'quotation', 'summarize-reformulate', 'affirmative-non-yes-answers', 'action-directive', 'collaborative-completion', 'repeat-phrase', 'open-question', 'rhetorical-questions', 'hold-before-answer-agreement', 'reject', 'negative-non-no-answers', 'signal-non-understanding', 'other-answers', 'conventional-opening', 'or-clause', 'dispreferred-answers', '3rd-party-talk', 'offers-options-commits', 'self-talk', 'downplayer', 'maybe-accept-part', 'tag-question', 'declarative-wh-question', 'apology', 'thanking']\n",
    "\n",
    "def clean_tag_name(tag_name):\n",
    "    tag_name = tag_name.strip().strip('\\n').lower()\n",
    "    tag_name = re.sub('[^a-zA-Z0-9]', ' ', tag_name)\n",
    "    tag_name = re. sub('\\s{2,}', ' ', tag_name)\n",
    "    tag_name = re. sub('\\s', '-', tag_name).strip('-')\n",
    "    return tag_name"
   ]
  },
  {
   "cell_type": "code",
   "execution_count": 13,
   "id": "a727cb05",
   "metadata": {},
   "outputs": [],
   "source": [
    "def process_file(filepath):\n",
    "    all_tags = []\n",
    "    with open(filepath, 'r') as fp:\n",
    "        i = 0\n",
    "        for line in fp:\n",
    "            if i != 0:\n",
    "                line = line.split(',')\n",
    "                curr_tag = clean_tag_name(line[-1])\n",
    "                if (curr_tag == \"\") or (curr_tag not in processed_taglist):\n",
    "                    print('Error:', line, curr_tag)\n",
    "                    break\n",
    "                all_tags.append(curr_tag)\n",
    "            i+= 1\n",
    "    return all_tags"
   ]
  },
  {
   "cell_type": "code",
   "execution_count": 5,
   "id": "1466f751",
   "metadata": {},
   "outputs": [
    {
     "name": "stdout",
     "output_type": "stream",
     "text": [
      "221\n"
     ]
    }
   ],
   "source": [
    "dj_ubuntu_tags = process_file(dj_ubuntu_filepath)\n",
    "print(len(dj_ubuntu_tags))"
   ]
  },
  {
   "cell_type": "code",
   "execution_count": 6,
   "id": "facc2504",
   "metadata": {},
   "outputs": [
    {
     "name": "stdout",
     "output_type": "stream",
     "text": [
      "201\n"
     ]
    }
   ],
   "source": [
    "dj_multigo_tags = process_file(dj_multigo_filepath)\n",
    "print(len(dj_multigo_tags))"
   ]
  },
  {
   "cell_type": "code",
   "execution_count": 14,
   "id": "5e21bc84",
   "metadata": {},
   "outputs": [
    {
     "name": "stdout",
     "output_type": "stream",
     "text": [
      "221\n"
     ]
    }
   ],
   "source": [
    "parsa_ubuntu_tags = process_file(parsa_ubuntu_filepath)\n",
    "print(len(parsa_ubuntu_tags))"
   ]
  },
  {
   "cell_type": "code",
   "execution_count": 17,
   "id": "1042d15f",
   "metadata": {},
   "outputs": [
    {
     "name": "stdout",
     "output_type": "stream",
     "text": [
      "201\n"
     ]
    }
   ],
   "source": [
    "parsa_multigo_tags = process_file(parsa_multigo_filepath)\n",
    "print(len(parsa_multigo_tags))"
   ]
  },
  {
   "cell_type": "code",
   "execution_count": 20,
   "id": "3343f736",
   "metadata": {},
   "outputs": [
    {
     "data": {
      "text/plain": [
       "0.25472351827043016"
      ]
     },
     "execution_count": 20,
     "metadata": {},
     "output_type": "execute_result"
    }
   ],
   "source": [
    "# Score only on Ubuntu data\n",
    "cohen_kappa_score(dj_ubuntu_tags, parsa_ubuntu_tags)"
   ]
  },
  {
   "cell_type": "code",
   "execution_count": 21,
   "id": "62d99c39",
   "metadata": {},
   "outputs": [
    {
     "data": {
      "text/plain": [
       "0.5720943613348677"
      ]
     },
     "execution_count": 21,
     "metadata": {},
     "output_type": "execute_result"
    }
   ],
   "source": [
    "# Score only on Multigo data\n",
    "cohen_kappa_score(dj_multigo_tags, parsa_multigo_tags)"
   ]
  },
  {
   "cell_type": "code",
   "execution_count": 22,
   "id": "98d3303c",
   "metadata": {},
   "outputs": [
    {
     "data": {
      "text/plain": [
       "0.41498947686801346"
      ]
     },
     "execution_count": 22,
     "metadata": {},
     "output_type": "execute_result"
    }
   ],
   "source": [
    "# Score on combined data\n",
    "cohen_kappa_score(dj_ubuntu_tags + dj_multigo_tags, parsa_ubuntu_tags + parsa_multigo_tags)"
   ]
  },
  {
   "cell_type": "code",
   "execution_count": null,
   "id": "8c91c372",
   "metadata": {},
   "outputs": [],
   "source": []
  }
 ],
 "metadata": {
  "kernelspec": {
   "display_name": "Python 3 (ipykernel)",
   "language": "python",
   "name": "python3"
  },
  "language_info": {
   "codemirror_mode": {
    "name": "ipython",
    "version": 3
   },
   "file_extension": ".py",
   "mimetype": "text/x-python",
   "name": "python",
   "nbconvert_exporter": "python",
   "pygments_lexer": "ipython3",
   "version": "3.9.13"
  }
 },
 "nbformat": 4,
 "nbformat_minor": 5
}
